{
 "cells": [
  {
   "cell_type": "code",
   "execution_count": 32,
   "id": "boxed-report",
   "metadata": {},
   "outputs": [],
   "source": [
    "import os \n",
    "import numpy as np\n",
    "\n",
    "from sklearn.model_selection import train_test_split\n",
    "from tensorflow.keras.models import Model, load_model\n",
    "from tensorflow.python.client import device_lib\n",
    "from tensorflow.keras.optimizers import Adam\n",
    "from tensorflow.keras.callbacks import EarlyStopping, TensorBoard\n",
    "from keras import backend as K \n",
    "\n",
    "from IAdeforestation.preprocessing import *\n",
    "from IAdeforestation.training import *"
   ]
  },
  {
   "cell_type": "code",
   "execution_count": 2,
   "id": "gorgeous-replica",
   "metadata": {},
   "outputs": [
    {
     "name": "stdout",
     "output_type": "stream",
     "text": [
      "[name: \"/device:CPU:0\"\n",
      "device_type: \"CPU\"\n",
      "memory_limit: 268435456\n",
      "locality {\n",
      "}\n",
      "incarnation: 2319149645807300402\n",
      ", name: \"/device:GPU:0\"\n",
      "device_type: \"GPU\"\n",
      "memory_limit: 3172404430\n",
      "locality {\n",
      "  bus_id: 1\n",
      "  links {\n",
      "  }\n",
      "}\n",
      "incarnation: 6612914583601935007\n",
      "physical_device_desc: \"device: 0, name: GeForce GTX 960, pci bus id: 0000:01:00.0, compute capability: 5.2\"\n",
      "]\n"
     ]
    }
   ],
   "source": [
    "print(device_lib.list_local_devices())\n",
    "\n",
    "K.clear_session()"
   ]
  },
  {
   "cell_type": "code",
   "execution_count": 11,
   "id": "satisfactory-choir",
   "metadata": {},
   "outputs": [],
   "source": [
    "SAVED_MODELS_PATH = os.path.join('saved_models', 'fine_tuning')\n",
    "IMAGES_DIR = 'images' # 'D:\\img32' # 'D:\\\\fall_images'\n",
    "BASE_MODEL_NAME = 'trans_learning_4'"
   ]
  },
  {
   "cell_type": "code",
   "execution_count": 25,
   "id": "dressed-eagle",
   "metadata": {
    "scrolled": true
   },
   "outputs": [],
   "source": [
    "model = load_model(os.path.join('saved_models', 'transfer_learning', 'Coffee',BASE_MODEL_NAME, BASE_MODEL_NAME + '.h5'), compile=False)\n",
    "model.trainable = True\n",
    "model.training = False"
   ]
  },
  {
   "cell_type": "code",
   "execution_count": 33,
   "id": "welsh-checkout",
   "metadata": {},
   "outputs": [],
   "source": [
    "PATH_COFFEE = os.path.join(IMAGES_DIR, '2')\n",
    "path1 = [os.path.join(PATH_COFFEE, s) for s in os.listdir(PATH_COFFEE)]\n",
    "class1 = [0]*len(path1)\n",
    "\n",
    "other_class_dir = list(range(1,32))\n",
    "other_class_dir.remove(2)\n",
    "path2 = []\n",
    "\n",
    "for p in other_class_dir:\n",
    "    for name in os.listdir(os.path.join(IMAGES_DIR, str(p))):\n",
    "        path2.append(os.path.join(IMAGES_DIR, str(p), name))\n",
    "        \n",
    "path2 = random.sample(path2, len(path1)) # Take the same number of img as class 0\n",
    "    \n",
    "class2 = [1]*len(path2)\n",
    "\n",
    "file_paths = np.asarray(path1 + path2)\n",
    "classes = np.asarray(class1 + class2)\n",
    "path_train, path_test, y_train, y_test = train_test_split(file_paths, classes, test_size=0.20)"
   ]
  },
  {
   "cell_type": "code",
   "execution_count": 28,
   "id": "stopped-coast",
   "metadata": {},
   "outputs": [],
   "source": [
    "BATCH_SIZE = 64\n",
    "LEARNING_RATE = 0.00001\n",
    "DATA_AUGMENTATION_MULTIPLIATOR = 3\n",
    "EPOCH = 100\n",
    "RUN_NAME = 'finetuning_1'"
   ]
  },
  {
   "cell_type": "code",
   "execution_count": 29,
   "id": "alive-final",
   "metadata": {},
   "outputs": [],
   "source": [
    "model.compile(optimizer=Adam(learning_rate=LEARNING_RATE), loss='binary_crossentropy',metrics=['accuracy'])"
   ]
  },
  {
   "cell_type": "code",
   "execution_count": null,
   "id": "twenty-constraint",
   "metadata": {},
   "outputs": [],
   "source": [
    "train_generator = generator(path_train, \n",
    "                            y_train, \n",
    "                            vietnam_params['mean'], \n",
    "                            vietnam_params['std'], \n",
    "                            batch_size=BATCH_SIZE, \n",
    "                            is_data_augmentation=True)\n",
    "\n",
    "test_generator = generator(path_test, \n",
    "                           y_test, \n",
    "                           vietnam_params['mean'], \n",
    "                           vietnam_params['std'], \n",
    "                           batch_size=BATCH_SIZE, \n",
    "                           is_data_augmentation=True)"
   ]
  },
  {
   "cell_type": "code",
   "execution_count": null,
   "id": "front-tomorrow",
   "metadata": {},
   "outputs": [],
   "source": [
    "earlystopper = EarlyStopping(monitor='accuracy',patience=30,restore_best_weights=True)\n",
    "tensorboard = TensorBoard(log_dir=os.path.join('logs', RUN_NAME),histogram_freq=1)"
   ]
  },
  {
   "cell_type": "code",
   "execution_count": null,
   "id": "simple-preservation",
   "metadata": {},
   "outputs": [],
   "source": [
    "history = model.fit(train_generator,\n",
    "                        epochs=EPOCH,\n",
    "                        steps_per_epoch=int(len(path_train)/BATCH_SIZE)*DATA_AUGMENTATION_MULTIPLIATOR,\n",
    "                        validation_data=test_generator,\n",
    "                        validation_steps=int(len(path_test)/BATCH_SIZE)*DATA_AUGMENTATION_MULTIPLIATOR,\n",
    "                        callbacks=[earlystopper, tensorboard])"
   ]
  }
 ],
 "metadata": {
  "kernelspec": {
   "display_name": "Python 3",
   "language": "python",
   "name": "python3"
  },
  "language_info": {
   "codemirror_mode": {
    "name": "ipython",
    "version": 3
   },
   "file_extension": ".py",
   "mimetype": "text/x-python",
   "name": "python",
   "nbconvert_exporter": "python",
   "pygments_lexer": "ipython3",
   "version": "3.7.10"
  }
 },
 "nbformat": 4,
 "nbformat_minor": 5
}
